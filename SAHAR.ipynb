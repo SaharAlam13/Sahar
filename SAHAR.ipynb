{
 "cells": [
  {
   "cell_type": "markdown",
   "id": "2292af37",
   "metadata": {},
   "source": [
    "# IMPORT LIBARARIES"
   ]
  },
  {
   "cell_type": "code",
   "execution_count": 105,
   "id": "61ce0aae",
   "metadata": {},
   "outputs": [],
   "source": [
    "import numpy as np\n",
    "import pandas as pd\n",
    "import matplotlib \n",
    "import matplotlib.pyplot as plt\n",
    "import seaborn as sns\n",
    "from sklearn.impute import SimpleImputer\n",
    "from sklearn.preprocessing import MinMaxScaler\n",
    "from sklearn.preprocessing  import LabelEncoder\n",
    "from sklearn.preprocessing import OneHotEncoder \n",
    "from sklearn.model_selection import train_test_split\n",
    "from sklearn.metrics import accuracy_score\n",
    "from sklearn.metrics import confusion_matrix\n",
    "from sklearn.metrics import classification_report\n",
    "%matplotlib inline "
   ]
  },
  {
   "cell_type": "markdown",
   "id": "bfe964ae",
   "metadata": {},
   "source": [
    "# CREATE DATASET "
   ]
  },
  {
   "cell_type": "code",
   "execution_count": 106,
   "id": "37172134",
   "metadata": {},
   "outputs": [],
   "source": [
    "# data read\n",
    "data = pd.read_csv('final-auto2011-2018.csv')\n"
   ]
  },
  {
   "cell_type": "code",
   "execution_count": 107,
   "id": "37ea9e4a",
   "metadata": {},
   "outputs": [
    {
     "data": {
      "text/html": [
       "<div>\n",
       "<style scoped>\n",
       "    .dataframe tbody tr th:only-of-type {\n",
       "        vertical-align: middle;\n",
       "    }\n",
       "\n",
       "    .dataframe tbody tr th {\n",
       "        vertical-align: top;\n",
       "    }\n",
       "\n",
       "    .dataframe thead th {\n",
       "        text-align: right;\n",
       "    }\n",
       "</style>\n",
       "<table border=\"1\" class=\"dataframe\">\n",
       "  <thead>\n",
       "    <tr style=\"text-align: right;\">\n",
       "      <th></th>\n",
       "      <th>Prod.</th>\n",
       "      <th>sales</th>\n",
       "      <th>Interest rates</th>\n",
       "      <th>Exchange rates</th>\n",
       "    </tr>\n",
       "  </thead>\n",
       "  <tbody>\n",
       "    <tr>\n",
       "      <th>count</th>\n",
       "      <td>84.000000</td>\n",
       "      <td>84.000000</td>\n",
       "      <td>84.000000</td>\n",
       "      <td>84.000000</td>\n",
       "    </tr>\n",
       "    <tr>\n",
       "      <th>mean</th>\n",
       "      <td>96562.321429</td>\n",
       "      <td>96542.940476</td>\n",
       "      <td>9.443929</td>\n",
       "      <td>134.195388</td>\n",
       "    </tr>\n",
       "    <tr>\n",
       "      <th>std</th>\n",
       "      <td>38072.379345</td>\n",
       "      <td>37999.824385</td>\n",
       "      <td>2.374022</td>\n",
       "      <td>24.411879</td>\n",
       "    </tr>\n",
       "    <tr>\n",
       "      <th>min</th>\n",
       "      <td>53906.000000</td>\n",
       "      <td>55456.000000</td>\n",
       "      <td>6.030000</td>\n",
       "      <td>93.303200</td>\n",
       "    </tr>\n",
       "    <tr>\n",
       "      <th>25%</th>\n",
       "      <td>65574.000000</td>\n",
       "      <td>66519.500000</td>\n",
       "      <td>7.085000</td>\n",
       "      <td>113.457200</td>\n",
       "    </tr>\n",
       "    <tr>\n",
       "      <th>50%</th>\n",
       "      <td>72279.000000</td>\n",
       "      <td>72153.500000</td>\n",
       "      <td>9.695000</td>\n",
       "      <td>134.207200</td>\n",
       "    </tr>\n",
       "    <tr>\n",
       "      <th>75%</th>\n",
       "      <td>129824.500000</td>\n",
       "      <td>130279.750000</td>\n",
       "      <td>10.652500</td>\n",
       "      <td>154.957200</td>\n",
       "    </tr>\n",
       "    <tr>\n",
       "      <th>max</th>\n",
       "      <td>176931.000000</td>\n",
       "      <td>176931.000000</td>\n",
       "      <td>14.620000</td>\n",
       "      <td>175.707200</td>\n",
       "    </tr>\n",
       "  </tbody>\n",
       "</table>\n",
       "</div>"
      ],
      "text/plain": [
       "               Prod.          sales  Interest rates  Exchange rates\n",
       "count      84.000000      84.000000       84.000000       84.000000\n",
       "mean    96562.321429   96542.940476        9.443929      134.195388\n",
       "std     38072.379345   37999.824385        2.374022       24.411879\n",
       "min     53906.000000   55456.000000        6.030000       93.303200\n",
       "25%     65574.000000   66519.500000        7.085000      113.457200\n",
       "50%     72279.000000   72153.500000        9.695000      134.207200\n",
       "75%    129824.500000  130279.750000       10.652500      154.957200\n",
       "max    176931.000000  176931.000000       14.620000      175.707200"
      ]
     },
     "execution_count": 107,
     "metadata": {},
     "output_type": "execute_result"
    }
   ],
   "source": [
    "# describe() method returns description of the data in the DataFrame\n",
    "data.describe()"
   ]
  },
  {
   "cell_type": "code",
   "execution_count": 108,
   "id": "58a0bff5",
   "metadata": {},
   "outputs": [
    {
     "data": {
      "text/html": [
       "<div>\n",
       "<style scoped>\n",
       "    .dataframe tbody tr th:only-of-type {\n",
       "        vertical-align: middle;\n",
       "    }\n",
       "\n",
       "    .dataframe tbody tr th {\n",
       "        vertical-align: top;\n",
       "    }\n",
       "\n",
       "    .dataframe thead th {\n",
       "        text-align: right;\n",
       "    }\n",
       "</style>\n",
       "<table border=\"1\" class=\"dataframe\">\n",
       "  <thead>\n",
       "    <tr style=\"text-align: right;\">\n",
       "      <th></th>\n",
       "      <th>Prod.</th>\n",
       "      <th>sales</th>\n",
       "      <th>Make</th>\n",
       "      <th>Type</th>\n",
       "      <th>dates</th>\n",
       "      <th>Interest rates</th>\n",
       "      <th>Exchange rates</th>\n",
       "    </tr>\n",
       "  </thead>\n",
       "  <tbody>\n",
       "    <tr>\n",
       "      <th>0</th>\n",
       "      <td>72873.0</td>\n",
       "      <td>74748.0</td>\n",
       "      <td>TOTAL</td>\n",
       "      <td>None</td>\n",
       "      <td>31-07-11</td>\n",
       "      <td>14.62</td>\n",
       "      <td>94.5883</td>\n",
       "    </tr>\n",
       "    <tr>\n",
       "      <th>1</th>\n",
       "      <td>70726.0</td>\n",
       "      <td>72399.0</td>\n",
       "      <td>TOTAL</td>\n",
       "      <td>None</td>\n",
       "      <td>31-08-11</td>\n",
       "      <td>14.22</td>\n",
       "      <td>93.5417</td>\n",
       "    </tr>\n",
       "    <tr>\n",
       "      <th>2</th>\n",
       "      <td>76342.0</td>\n",
       "      <td>73300.0</td>\n",
       "      <td>TOTAL</td>\n",
       "      <td>None</td>\n",
       "      <td>30-09-11</td>\n",
       "      <td>14.28</td>\n",
       "      <td>94.7190</td>\n",
       "    </tr>\n",
       "    <tr>\n",
       "      <th>3</th>\n",
       "      <td>69669.0</td>\n",
       "      <td>70809.0</td>\n",
       "      <td>TOTAL</td>\n",
       "      <td>None</td>\n",
       "      <td>31-10-11</td>\n",
       "      <td>13.97</td>\n",
       "      <td>93.3032</td>\n",
       "    </tr>\n",
       "    <tr>\n",
       "      <th>4</th>\n",
       "      <td>68472.0</td>\n",
       "      <td>68196.0</td>\n",
       "      <td>TOTAL</td>\n",
       "      <td>None</td>\n",
       "      <td>30-11-11</td>\n",
       "      <td>13.58</td>\n",
       "      <td>95.5799</td>\n",
       "    </tr>\n",
       "  </tbody>\n",
       "</table>\n",
       "</div>"
      ],
      "text/plain": [
       "     Prod.    sales   Make  Type     dates  Interest rates  Exchange rates\n",
       "0  72873.0  74748.0  TOTAL  None  31-07-11           14.62         94.5883\n",
       "1  70726.0  72399.0  TOTAL  None  31-08-11           14.22         93.5417\n",
       "2  76342.0  73300.0  TOTAL  None  30-09-11           14.28         94.7190\n",
       "3  69669.0  70809.0  TOTAL  None  31-10-11           13.97         93.3032\n",
       "4  68472.0  68196.0  TOTAL  None  30-11-11           13.58         95.5799"
      ]
     },
     "execution_count": 108,
     "metadata": {},
     "output_type": "execute_result"
    }
   ],
   "source": [
    "#  Display the Data\n",
    "data.head()"
   ]
  },
  {
   "cell_type": "code",
   "execution_count": 109,
   "id": "949ebfa2",
   "metadata": {},
   "outputs": [
    {
     "name": "stdout",
     "output_type": "stream",
     "text": [
      "Prod.             float64\n",
      "sales             float64\n",
      "Make               object\n",
      "Type               object\n",
      "dates              object\n",
      "Interest rates    float64\n",
      "Exchange rates    float64\n",
      "dtype: object\n"
     ]
    }
   ],
   "source": [
    "# Datatype of Each Column\n",
    "print(data.dtypes)"
   ]
  },
  {
   "cell_type": "code",
   "execution_count": 110,
   "id": "19312c73",
   "metadata": {},
   "outputs": [
    {
     "name": "stdout",
     "output_type": "stream",
     "text": [
      "<class 'pandas.core.frame.DataFrame'>\n",
      "RangeIndex: 102 entries, 0 to 101\n",
      "Data columns (total 7 columns):\n",
      " #   Column          Non-Null Count  Dtype  \n",
      "---  ------          --------------  -----  \n",
      " 0   Prod.           84 non-null     float64\n",
      " 1   sales           84 non-null     float64\n",
      " 2   Make            84 non-null     object \n",
      " 3   Type            84 non-null     object \n",
      " 4   dates           84 non-null     object \n",
      " 5   Interest rates  84 non-null     float64\n",
      " 6   Exchange rates  84 non-null     float64\n",
      "dtypes: float64(4), object(3)\n",
      "memory usage: 5.7+ KB\n"
     ]
    }
   ],
   "source": [
    "# ALL info about data\n",
    "data.info()"
   ]
  },
  {
   "cell_type": "code",
   "execution_count": 111,
   "id": "bbba4a5d",
   "metadata": {},
   "outputs": [
    {
     "name": "stdout",
     "output_type": "stream",
     "text": [
      "[dtype('float64') dtype('O')]\n"
     ]
    }
   ],
   "source": [
    "# Using unique() method\n",
    "print(data.dtypes.unique())"
   ]
  },
  {
   "cell_type": "code",
   "execution_count": 112,
   "id": "985081ba",
   "metadata": {},
   "outputs": [
    {
     "name": "stdout",
     "output_type": "stream",
     "text": [
      "Prod.             18\n",
      "sales             18\n",
      "Make              18\n",
      "Type              18\n",
      "dates             18\n",
      "Interest rates    18\n",
      "Exchange rates    18\n",
      "dtype: int64\n"
     ]
    }
   ],
   "source": [
    "# null values as missing or missing data \n",
    "\n",
    "null_columns=data.columns[data.isnull().any()]\n",
    "print(data[null_columns].isnull().sum())"
   ]
  },
  {
   "cell_type": "code",
   "execution_count": 113,
   "id": "6f3b25c8",
   "metadata": {},
   "outputs": [
    {
     "data": {
      "text/html": [
       "<div>\n",
       "<style scoped>\n",
       "    .dataframe tbody tr th:only-of-type {\n",
       "        vertical-align: middle;\n",
       "    }\n",
       "\n",
       "    .dataframe tbody tr th {\n",
       "        vertical-align: top;\n",
       "    }\n",
       "\n",
       "    .dataframe thead th {\n",
       "        text-align: right;\n",
       "    }\n",
       "</style>\n",
       "<table border=\"1\" class=\"dataframe\">\n",
       "  <thead>\n",
       "    <tr style=\"text-align: right;\">\n",
       "      <th></th>\n",
       "      <th>Prod.</th>\n",
       "      <th>sales</th>\n",
       "      <th>Make</th>\n",
       "      <th>Type</th>\n",
       "      <th>dates</th>\n",
       "      <th>Interest rates</th>\n",
       "      <th>Exchange rates</th>\n",
       "    </tr>\n",
       "  </thead>\n",
       "  <tbody>\n",
       "    <tr>\n",
       "      <th>84</th>\n",
       "      <td>NaN</td>\n",
       "      <td>NaN</td>\n",
       "      <td>NaN</td>\n",
       "      <td>NaN</td>\n",
       "      <td>NaN</td>\n",
       "      <td>NaN</td>\n",
       "      <td>NaN</td>\n",
       "    </tr>\n",
       "    <tr>\n",
       "      <th>85</th>\n",
       "      <td>NaN</td>\n",
       "      <td>NaN</td>\n",
       "      <td>NaN</td>\n",
       "      <td>NaN</td>\n",
       "      <td>NaN</td>\n",
       "      <td>NaN</td>\n",
       "      <td>NaN</td>\n",
       "    </tr>\n",
       "    <tr>\n",
       "      <th>86</th>\n",
       "      <td>NaN</td>\n",
       "      <td>NaN</td>\n",
       "      <td>NaN</td>\n",
       "      <td>NaN</td>\n",
       "      <td>NaN</td>\n",
       "      <td>NaN</td>\n",
       "      <td>NaN</td>\n",
       "    </tr>\n",
       "    <tr>\n",
       "      <th>87</th>\n",
       "      <td>NaN</td>\n",
       "      <td>NaN</td>\n",
       "      <td>NaN</td>\n",
       "      <td>NaN</td>\n",
       "      <td>NaN</td>\n",
       "      <td>NaN</td>\n",
       "      <td>NaN</td>\n",
       "    </tr>\n",
       "    <tr>\n",
       "      <th>88</th>\n",
       "      <td>NaN</td>\n",
       "      <td>NaN</td>\n",
       "      <td>NaN</td>\n",
       "      <td>NaN</td>\n",
       "      <td>NaN</td>\n",
       "      <td>NaN</td>\n",
       "      <td>NaN</td>\n",
       "    </tr>\n",
       "  </tbody>\n",
       "</table>\n",
       "</div>"
      ],
      "text/plain": [
       "    Prod.  sales Make Type dates  Interest rates  Exchange rates\n",
       "84    NaN    NaN  NaN  NaN   NaN             NaN             NaN\n",
       "85    NaN    NaN  NaN  NaN   NaN             NaN             NaN\n",
       "86    NaN    NaN  NaN  NaN   NaN             NaN             NaN\n",
       "87    NaN    NaN  NaN  NaN   NaN             NaN             NaN\n",
       "88    NaN    NaN  NaN  NaN   NaN             NaN             NaN"
      ]
     },
     "execution_count": 113,
     "metadata": {},
     "output_type": "execute_result"
    }
   ],
   "source": [
    "\n",
    "data[data.isnull().any(axis=1)][null_columns].head()"
   ]
  },
  {
   "cell_type": "code",
   "execution_count": 114,
   "id": "34614ba5",
   "metadata": {},
   "outputs": [
    {
     "data": {
      "text/html": [
       "<div>\n",
       "<style scoped>\n",
       "    .dataframe tbody tr th:only-of-type {\n",
       "        vertical-align: middle;\n",
       "    }\n",
       "\n",
       "    .dataframe tbody tr th {\n",
       "        vertical-align: top;\n",
       "    }\n",
       "\n",
       "    .dataframe thead th {\n",
       "        text-align: right;\n",
       "    }\n",
       "</style>\n",
       "<table border=\"1\" class=\"dataframe\">\n",
       "  <thead>\n",
       "    <tr style=\"text-align: right;\">\n",
       "      <th></th>\n",
       "      <th>Prod.</th>\n",
       "      <th>sales</th>\n",
       "      <th>Make</th>\n",
       "      <th>Type</th>\n",
       "      <th>dates</th>\n",
       "      <th>Interest rates</th>\n",
       "      <th>Exchange rates</th>\n",
       "    </tr>\n",
       "  </thead>\n",
       "  <tbody>\n",
       "    <tr>\n",
       "      <th>0</th>\n",
       "      <td>72873.0</td>\n",
       "      <td>74748.0</td>\n",
       "      <td>TOTAL</td>\n",
       "      <td>None</td>\n",
       "      <td>31-07-11</td>\n",
       "      <td>14.62</td>\n",
       "      <td>94.5883</td>\n",
       "    </tr>\n",
       "    <tr>\n",
       "      <th>1</th>\n",
       "      <td>70726.0</td>\n",
       "      <td>72399.0</td>\n",
       "      <td>TOTAL</td>\n",
       "      <td>None</td>\n",
       "      <td>31-08-11</td>\n",
       "      <td>14.22</td>\n",
       "      <td>93.5417</td>\n",
       "    </tr>\n",
       "    <tr>\n",
       "      <th>2</th>\n",
       "      <td>76342.0</td>\n",
       "      <td>73300.0</td>\n",
       "      <td>TOTAL</td>\n",
       "      <td>None</td>\n",
       "      <td>30-09-11</td>\n",
       "      <td>14.28</td>\n",
       "      <td>94.7190</td>\n",
       "    </tr>\n",
       "    <tr>\n",
       "      <th>3</th>\n",
       "      <td>69669.0</td>\n",
       "      <td>70809.0</td>\n",
       "      <td>TOTAL</td>\n",
       "      <td>None</td>\n",
       "      <td>31-10-11</td>\n",
       "      <td>13.97</td>\n",
       "      <td>93.3032</td>\n",
       "    </tr>\n",
       "    <tr>\n",
       "      <th>4</th>\n",
       "      <td>68472.0</td>\n",
       "      <td>68196.0</td>\n",
       "      <td>TOTAL</td>\n",
       "      <td>None</td>\n",
       "      <td>30-11-11</td>\n",
       "      <td>13.58</td>\n",
       "      <td>95.5799</td>\n",
       "    </tr>\n",
       "    <tr>\n",
       "      <th>...</th>\n",
       "      <td>...</td>\n",
       "      <td>...</td>\n",
       "      <td>...</td>\n",
       "      <td>...</td>\n",
       "      <td>...</td>\n",
       "      <td>...</td>\n",
       "      <td>...</td>\n",
       "    </tr>\n",
       "    <tr>\n",
       "      <th>67</th>\n",
       "      <td>135503.0</td>\n",
       "      <td>135507.0</td>\n",
       "      <td>TOTAL</td>\n",
       "      <td>None</td>\n",
       "      <td>28-02-17</td>\n",
       "      <td>6.95</td>\n",
       "      <td>159.7072</td>\n",
       "    </tr>\n",
       "    <tr>\n",
       "      <th>68</th>\n",
       "      <td>140000.0</td>\n",
       "      <td>138877.0</td>\n",
       "      <td>TOTAL</td>\n",
       "      <td>None</td>\n",
       "      <td>31-03-17</td>\n",
       "      <td>6.93</td>\n",
       "      <td>160.7072</td>\n",
       "    </tr>\n",
       "    <tr>\n",
       "      <th>69</th>\n",
       "      <td>139444.0</td>\n",
       "      <td>137550.0</td>\n",
       "      <td>TOTAL</td>\n",
       "      <td>None</td>\n",
       "      <td>30-04-17</td>\n",
       "      <td>6.90</td>\n",
       "      <td>161.7072</td>\n",
       "    </tr>\n",
       "    <tr>\n",
       "      <th>70</th>\n",
       "      <td>153547.0</td>\n",
       "      <td>155855.0</td>\n",
       "      <td>TOTAL</td>\n",
       "      <td>None</td>\n",
       "      <td>31-05-17</td>\n",
       "      <td>6.93</td>\n",
       "      <td>162.7072</td>\n",
       "    </tr>\n",
       "    <tr>\n",
       "      <th>71</th>\n",
       "      <td>128520.0</td>\n",
       "      <td>129342.0</td>\n",
       "      <td>TOTAL</td>\n",
       "      <td>None</td>\n",
       "      <td>30-06-17</td>\n",
       "      <td>7.07</td>\n",
       "      <td>163.7072</td>\n",
       "    </tr>\n",
       "  </tbody>\n",
       "</table>\n",
       "<p>72 rows × 7 columns</p>\n",
       "</div>"
      ],
      "text/plain": [
       "       Prod.     sales   Make  Type     dates  Interest rates  Exchange rates\n",
       "0    72873.0   74748.0  TOTAL  None  31-07-11           14.62         94.5883\n",
       "1    70726.0   72399.0  TOTAL  None  31-08-11           14.22         93.5417\n",
       "2    76342.0   73300.0  TOTAL  None  30-09-11           14.28         94.7190\n",
       "3    69669.0   70809.0  TOTAL  None  31-10-11           13.97         93.3032\n",
       "4    68472.0   68196.0  TOTAL  None  30-11-11           13.58         95.5799\n",
       "..       ...       ...    ...   ...       ...             ...             ...\n",
       "67  135503.0  135507.0  TOTAL  None  28-02-17            6.95        159.7072\n",
       "68  140000.0  138877.0  TOTAL  None  31-03-17            6.93        160.7072\n",
       "69  139444.0  137550.0  TOTAL  None  30-04-17            6.90        161.7072\n",
       "70  153547.0  155855.0  TOTAL  None  31-05-17            6.93        162.7072\n",
       "71  128520.0  129342.0  TOTAL  None  30-06-17            7.07        163.7072\n",
       "\n",
       "[72 rows x 7 columns]"
      ]
     },
     "execution_count": 114,
     "metadata": {},
     "output_type": "execute_result"
    }
   ],
   "source": [
    "# fillna() method replaces the NULL values with a specified value\n",
    "\n",
    "data=data.fillna(0)\n",
    "data.head(-30)"
   ]
  },
  {
   "cell_type": "markdown",
   "id": "c39d0b5b",
   "metadata": {},
   "source": [
    "# VISUALIZATION"
   ]
  },
  {
   "cell_type": "code",
   "execution_count": 115,
   "id": "887dfdbb",
   "metadata": {},
   "outputs": [
    {
     "data": {
      "image/png": "[encoded data removed]",
      "text/plain": [
       "<Figure size 432x288 with 1 Axes>"
      ]
     },
     "metadata": {
      "needs_background": "light"
     },
     "output_type": "display_data"
    }
   ],
   "source": [
    "''' Matplotlib, Seaborn and many other such data visualization packages with different features for creating informative,\n",
    "customized, and appealing plots to present data'''\n",
    "\n",
    "sns.kdeplot(x = data['Prod.'] , shade = True , linewidth = 5 , alpha = 0.5 , edgecolor = 'black')\n",
    "plt.title('Prod.' , fontsize = 20)\n",
    "plt.show()"
   ]
  },
  {
   "cell_type": "code",
   "execution_count": 116,
   "id": "c7f92113",
   "metadata": {},
   "outputs": [
    {
     "data": {
      "image/png": "[encoded data removed]",
      "text/plain": [
       "<Figure size 432x288 with 1 Axes>"
      ]
     },
     "metadata": {
      "needs_background": "light"
     },
     "output_type": "display_data"
    }
   ],
   "source": [
    "\n",
    "\n",
    "sns.kdeplot(x = data['sales'] , shade = True , linewidth = 5 , alpha = 0.5 , edgecolor = 'black')\n",
    "plt.title('sales' , fontsize = 20)\n",
    "plt.show()"
   ]
  },
  {
   "cell_type": "code",
   "execution_count": 117,
   "id": "cf136ddc",
   "metadata": {},
   "outputs": [
    {
     "data": {
      "image/png": "[encoded data removed]",
      "text/plain": [
       "<Figure size 432x288 with 1 Axes>"
      ]
     },
     "metadata": {
      "needs_background": "light"
     },
     "output_type": "display_data"
    }
   ],
   "source": [
    " sns.stripplot(x = data['Prod.'] , y = data['sales'] , palette = 'hot')\n",
    " plt.title('Products & Sales' , fontsize = 20)\n",
    " plt.show()"
   ]
  },
  {
   "cell_type": "code",
   "execution_count": 118,
   "id": "40a97762",
   "metadata": {},
   "outputs": [
    {
     "data": {
      "image/png": "[encoded data removed]",
      "text/plain": [
       "<Figure size 432x288 with 1 Axes>"
      ]
     },
     "metadata": {
      "needs_background": "light"
     },
     "output_type": "display_data"
    }
   ],
   "source": [
    "# groupby() function is used to split the data into groups\n",
    "\n",
    "data.groupby('Interest rates')['Exchange rates'].mean().plot()\n",
    "plt.title('Calculating mean')\n",
    "plt.show()"
   ]
  },
  {
   "cell_type": "code",
   "execution_count": 119,
   "id": "9de86a2f",
   "metadata": {},
   "outputs": [
    {
     "name": "stdout",
     "output_type": "stream",
     "text": [
      "       Prod.  Interest rates  Exchange rates\n",
      "0    72873.0           14.62         94.5883\n",
      "1    70726.0           14.22         93.5417\n",
      "2    76342.0           14.28         94.7190\n",
      "3    69669.0           13.97         93.3032\n",
      "4    68472.0           13.58         95.5799\n",
      "..       ...             ...             ...\n",
      "97       0.0            0.00          0.0000\n",
      "98       0.0            0.00          0.0000\n",
      "99       0.0            0.00          0.0000\n",
      "100      0.0            0.00          0.0000\n",
      "101      0.0            0.00          0.0000\n",
      "\n",
      "[102 rows x 3 columns]\n",
      "0      74748.0\n",
      "1      72399.0\n",
      "2      73300.0\n",
      "3      70809.0\n",
      "4      68196.0\n",
      "        ...   \n",
      "97         0.0\n",
      "98         0.0\n",
      "99         0.0\n",
      "100        0.0\n",
      "101        0.0\n",
      "Name: sales, Length: 102, dtype: float64\n"
     ]
    }
   ],
   "source": [
    "\n",
    "# Convert Dataset into Dependent & Independent Matrix\n",
    "\n",
    "columns = ['Prod.', 'Interest rates', 'Exchange rates']\n",
    "X = data[columns]\n",
    "Y = data['sales']\n",
    "print(X)\n",
    "print(Y)"
   ]
  },
  {
   "cell_type": "markdown",
   "id": "d4a2bc52",
   "metadata": {},
   "source": [
    "# PREPROCESSING"
   ]
  },
  {
   "cell_type": "code",
   "execution_count": 120,
   "id": "521c0672",
   "metadata": {},
   "outputs": [],
   "source": [
    "# Define the Label\n",
    "Label = ['Prod.' , 'sales' , 'Make' , 'Type' , 'dates' , 'Interest rates' , 'Exchnage rates']  "
   ]
  },
  {
   "cell_type": "code",
   "execution_count": 121,
   "id": "b5d56254",
   "metadata": {},
   "outputs": [
    {
     "data": {
      "image/png": "[encoded data removed]",
      "text/plain": [
       "<Figure size 576x432 with 2 Axes>"
      ]
     },
     "metadata": {
      "needs_background": "light"
     },
     "output_type": "display_data"
    }
   ],
   "source": [
    "# Displat the Correlation Table\n",
    "correlation = data.corr()\n",
    "# Display the Correlation Table by using HeatMap\n",
    "\n",
    "plt.figure(figsize = (8,6))\n",
    "sns.heatmap(correlation , cmap = 'GnBu' , annot = True)\n",
    "plt.show()"
   ]
  },
  {
   "cell_type": "code",
   "execution_count": 122,
   "id": "82eca6f2",
   "metadata": {},
   "outputs": [],
   "source": [
    "# Split the Dataset into (Train & Test)\n",
    "\n",
    "X_train, X_test, y_train, y_test = train_test_split(X, Y, test_size = 0.33, random_state = 0)"
   ]
  },
  {
   "cell_type": "markdown",
   "id": "6b2b1428",
   "metadata": {},
   "source": [
    "# ML MODELS:"
   ]
  },
  {
   "cell_type": "markdown",
   "id": "8470cbe4",
   "metadata": {},
   "source": [
    "# DecisionTreeRegressor"
   ]
  },
  {
   "cell_type": "code",
   "execution_count": 123,
   "id": "d9392464",
   "metadata": {},
   "outputs": [
    {
     "data": {
      "text/html": [
       "<style>#sk-container-id-3 {color: black;background-color: white;}#sk-container-id-3 pre{padding: 0;}#sk-container-id-3 div.sk-toggleable {background-color: white;}#sk-container-id-3 label.sk-toggleable__label {cursor: pointer;display: block;width: 100%;margin-bottom: 0;padding: 0.3em;box-sizing: border-box;text-align: center;}#sk-container-id-3 label.sk-toggleable__label-arrow:before {content: \"▸\";float: left;margin-right: 0.25em;color: #696969;}#sk-container-id-3 label.sk-toggleable__label-arrow:hover:before {color: black;}#sk-container-id-3 div.sk-estimator:hover label.sk-toggleable__label-arrow:before {color: black;}#sk-container-id-3 div.sk-toggleable__content {max-height: 0;max-width: 0;overflow: hidden;text-align: left;background-color: #f0f8ff;}#sk-container-id-3 div.sk-toggleable__content pre {margin: 0.2em;color: black;border-radius: 0.25em;background-color: #f0f8ff;}#sk-container-id-3 input.sk-toggleable__control:checked~div.sk-toggleable__content {max-height: 200px;max-width: 100%;overflow: auto;}#sk-container-id-3 input.sk-toggleable__control:checked~label.sk-toggleable__label-arrow:before {content: \"▾\";}#sk-container-id-3 div.sk-estimator input.sk-toggleable__control:checked~label.sk-toggleable__label {background-color: #d4ebff;}#sk-container-id-3 div.sk-label input.sk-toggleable__control:checked~label.sk-toggleable__label {background-color: #d4ebff;}#sk-container-id-3 input.sk-hidden--visually {border: 0;clip: rect(1px 1px 1px 1px);clip: rect(1px, 1px, 1px, 1px);height: 1px;margin: -1px;overflow: hidden;padding: 0;position: absolute;width: 1px;}#sk-container-id-3 div.sk-estimator {font-family: monospace;background-color: #f0f8ff;border: 1px dotted black;border-radius: 0.25em;box-sizing: border-box;margin-bottom: 0.5em;}#sk-container-id-3 div.sk-estimator:hover {background-color: #d4ebff;}#sk-container-id-3 div.sk-parallel-item::after {content: \"\";width: 100%;border-bottom: 1px solid gray;flex-grow: 1;}#sk-container-id-3 div.sk-label:hover label.sk-toggleable__label {background-color: #d4ebff;}#sk-container-id-3 div.sk-serial::before {content: \"\";position: absolute;border-left: 1px solid gray;box-sizing: border-box;top: 0;bottom: 0;left: 50%;z-index: 0;}#sk-container-id-3 div.sk-serial {display: flex;flex-direction: column;align-items: center;background-color: white;padding-right: 0.2em;padding-left: 0.2em;position: relative;}#sk-container-id-3 div.sk-item {position: relative;z-index: 1;}#sk-container-id-3 div.sk-parallel {display: flex;align-items: stretch;justify-content: center;background-color: white;position: relative;}#sk-container-id-3 div.sk-item::before, #sk-container-id-3 div.sk-parallel-item::before {content: \"\";position: absolute;border-left: 1px solid gray;box-sizing: border-box;top: 0;bottom: 0;left: 50%;z-index: -1;}#sk-container-id-3 div.sk-parallel-item {display: flex;flex-direction: column;z-index: 1;position: relative;background-color: white;}#sk-container-id-3 div.sk-parallel-item:first-child::after {align-self: flex-end;width: 50%;}#sk-container-id-3 div.sk-parallel-item:last-child::after {align-self: flex-start;width: 50%;}#sk-container-id-3 div.sk-parallel-item:only-child::after {width: 0;}#sk-container-id-3 div.sk-dashed-wrapped {border: 1px dashed gray;margin: 0 0.4em 0.5em 0.4em;box-sizing: border-box;padding-bottom: 0.4em;background-color: white;}#sk-container-id-3 div.sk-label label {font-family: monospace;font-weight: bold;display: inline-block;line-height: 1.2em;}#sk-container-id-3 div.sk-label-container {text-align: center;}#sk-container-id-3 div.sk-container {/* jupyter's `normalize.less` sets `[hidden] { display: none; }` but bootstrap.min.css set `[hidden] { display: none !important; }` so we also need the `!important` here to be able to override the default hidden behavior on the sphinx rendered scikit-learn.org. See: https://github.com/scikit-learn/scikit-learn/issues/21755 */display: inline-block !important;position: relative;}#sk-container-id-3 div.sk-text-repr-fallback {display: none;}</style><div id=\"sk-container-id-3\" class=\"sk-top-container\"><div class=\"sk-text-repr-fallback\"><pre>DecisionTreeRegressor(random_state=0)</pre><b>In a Jupyter environment, please rerun this cell to show the HTML representation or trust the notebook. <br />On GitHub, the HTML representation is unable to render, please try loading this page with nbviewer.org.</b></div><div class=\"sk-container\" hidden><div class=\"sk-item\"><div class=\"sk-estimator sk-toggleable\"><input class=\"sk-toggleable__control sk-hidden--visually\" id=\"sk-estimator-id-3\" type=\"checkbox\" checked><label for=\"sk-estimator-id-3\" class=\"sk-toggleable__label sk-toggleable__label-arrow\">DecisionTreeRegressor</label><div class=\"sk-toggleable__content\"><pre>DecisionTreeRegressor(random_state=0)</pre></div></div></div></div></div>"
      ],
      "text/plain": [
       "DecisionTreeRegressor(random_state=0)"
      ]
     },
     "execution_count": 123,
     "metadata": {},
     "output_type": "execute_result"
    }
   ],
   "source": [
    " # import the regressor\n",
    "from sklearn.tree import DecisionTreeRegressor \n",
    "\n",
    "# create a regressor object\n",
    "regressor = DecisionTreeRegressor(random_state = 0) \n",
    "  \n",
    "# fit the regressor with X and Y data\n",
    "regressor.fit(X, Y)\n"
   ]
  },
  {
   "cell_type": "code",
   "execution_count": 143,
   "id": "0e6eb671",
   "metadata": {},
   "outputs": [
    {
     "name": "stdout",
     "output_type": "stream",
     "text": [
      "Predicted price:  73783\n",
      "\n"
     ]
    }
   ],
   "source": [
    "# predicting a new value\n",
    "  \n",
    "# test the output by changing values, like 74748.0\n",
    "y_pred = regressor.predict([[74748.0]])\n",
    "  \n",
    "# print the predicted price\n",
    "print(\"Predicted price: % d\\n\"% y_pred) "
   ]
  },
  {
   "cell_type": "code",
   "execution_count": 149,
   "id": "82050aa8",
   "metadata": {},
   "outputs": [
    {
     "data": {
      "image/png": "[encoded data removed]",
      "text/plain": [
       "<Figure size 432x288 with 1 Axes>"
      ]
     },
     "metadata": {
      "needs_background": "light"
     },
     "output_type": "display_data"
    }
   ],
   "source": [
    "# arange for creating a range of values \n",
    "# from min value of X to max value of X \n",
    "# with a difference of 0.01 between two\n",
    "# consecutive values\n",
    "\n",
    "X_grid = np.arange(min(X), max(X), 0.01)\n",
    "\n",
    "# reshape for reshaping the data into \n",
    "# a len(X_grid)*1 array, i.e. to make\n",
    "# a column out of the X_grid values\n",
    "#X_grid = X_grid.reshape((len(X_grid), 1)) \n",
    "X_grid = X_grid.reshape((len(X_grid), 1))\n",
    "  \n",
    "  \n",
    "# scatter plot for original data\n",
    "plt.scatter(X, Y, color = 'red')\n",
    "  \n",
    "# plot predicted data\n",
    "plt.plot(X_grid, regressor.predict(X_grid), color = 'blue') \n",
    "  \n",
    "# specify title\n",
    "plt.title('Profit to Production Sales (Decision Tree Regression)') \n",
    "  \n",
    "# specify X axis label\n",
    "plt.xlabel('Product')\n",
    "  \n",
    "# specify Y axis label\n",
    "plt.ylabel('Sales')\n",
    "  \n",
    "# show the plot\n",
    "plt.show()"
   ]
  },
  {
   "cell_type": "markdown",
   "id": "47986e58",
   "metadata": {},
   "source": [
    "# LinearRegression"
   ]
  },
  {
   "cell_type": "code",
   "execution_count": 128,
   "id": "c17968cc",
   "metadata": {},
   "outputs": [
    {
     "data": {
      "text/plain": [
       "0.9994546081301757"
      ]
     },
     "execution_count": 128,
     "metadata": {},
     "output_type": "execute_result"
    }
   ],
   "source": [
    "\n",
    "from sklearn.linear_model import LinearRegression\n",
    "LR = LinearRegression()\n",
    "\n",
    "# Fit the Model \n",
    "LR.fit(X_train, y_train)\n",
    "\n",
    "# Accuracy of the  LinearRegression \n",
    "\n",
    "\n",
    "LR.score(X_test, y_test)\n"
   ]
  },
  {
   "cell_type": "code",
   "execution_count": 129,
   "id": "8cfa446b",
   "metadata": {},
   "outputs": [
    {
     "name": "stdout",
     "output_type": "stream",
     "text": [
      "[ 6.76342816e+04 -4.16325702e+01  7.69715555e+04  1.06672939e+05\n",
      " -4.16325702e+01 -4.16325702e+01  7.00823190e+04  1.43674163e+05\n",
      "  1.17876574e+05  1.39774392e+05  1.04196230e+05 -4.16325702e+01\n",
      "  1.69900988e+05  6.61002765e+04  6.52131269e+04  6.90479729e+04\n",
      "  6.69042411e+04  6.53414887e+04  6.12910128e+04  7.21597278e+04\n",
      "  6.11196735e+04  1.23356184e+05  7.02600833e+04  1.46028419e+05\n",
      "  7.02694293e+04  9.99443083e+04  6.81109314e+04 -4.16325702e+01\n",
      "  1.69091353e+05  1.68677834e+05  1.06913992e+05 -4.16325702e+01\n",
      " -4.16325702e+01  1.50453107e+05]\n"
     ]
    }
   ],
   "source": [
    "# predict the LinearRegression\n",
    "predict_LR = LR.predict(X_test)\n",
    "print(predict_LR)"
   ]
  },
  {
   "cell_type": "code",
   "execution_count": 130,
   "id": "09d493f2",
   "metadata": {},
   "outputs": [],
   "source": [
    "X = data.iloc[:, 0].values.reshape(-1, 1)  # values converts it into a numpy array\n",
    "Y = data.iloc[:, 1].values.reshape(-1, 1)  # -1 means that calculate the dimension of rows, but have 1 column\n",
    "linear_regressor = LinearRegression()  # create object for the class\n",
    "linear_regressor.fit(X, Y)  # perform linear regression\n",
    "Y_pred = linear_regressor.predict(X)  # make predictions"
   ]
  },
  {
   "cell_type": "code",
   "execution_count": 131,
   "id": "8a878629",
   "metadata": {},
   "outputs": [
    {
     "data": {
      "image/png": "[encoded data removed]",
      "text/plain": [
       "<Figure size 432x288 with 1 Axes>"
      ]
     },
     "metadata": {
      "needs_background": "light"
     },
     "output_type": "display_data"
    }
   ],
   "source": [
    "# plotting the graph\n",
    "plt.scatter(X, Y)\n",
    "plt.plot(X, Y_pred, color='red')\n",
    "plt.show()"
   ]
  },
  {
   "cell_type": "markdown",
   "id": "63e2c627",
   "metadata": {},
   "source": [
    "# MULTIPLE LINEAR REGRESSION "
   ]
  },
  {
   "cell_type": "code",
   "execution_count": 132,
   "id": "fe70ed01",
   "metadata": {},
   "outputs": [
    {
     "data": {
      "text/plain": [
       "array([ 6.76342816e+04, -4.16325702e+01,  7.69715555e+04,  1.06672939e+05,\n",
       "       -4.16325702e+01, -4.16325702e+01,  7.00823190e+04,  1.43674163e+05,\n",
       "        1.17876574e+05,  1.39774392e+05,  1.04196230e+05, -4.16325702e+01,\n",
       "        1.69900988e+05,  6.61002765e+04,  6.52131269e+04,  6.90479729e+04,\n",
       "        6.69042411e+04,  6.53414887e+04,  6.12910128e+04,  7.21597278e+04,\n",
       "        6.11196735e+04,  1.23356184e+05,  7.02600833e+04,  1.46028419e+05,\n",
       "        7.02694293e+04,  9.99443083e+04,  6.81109314e+04, -4.16325702e+01,\n",
       "        1.69091353e+05,  1.68677834e+05,  1.06913992e+05, -4.16325702e+01,\n",
       "       -4.16325702e+01,  1.50453107e+05])"
      ]
     },
     "execution_count": 132,
     "metadata": {},
     "output_type": "execute_result"
    }
   ],
   "source": [
    "from sklearn.linear_model import LinearRegression\n",
    "\n",
    "linreg=LinearRegression()\n",
    "linreg.fit(X_train,y_train)\n",
    "\n",
    "y_pred=linreg.predict(X_test)\n",
    "y_pred\n",
    "\n"
   ]
  },
  {
   "cell_type": "code",
   "execution_count": 133,
   "id": "96720584",
   "metadata": {},
   "outputs": [
    {
     "name": "stdout",
     "output_type": "stream",
     "text": [
      " Accuracy of the model is 74707.23\n"
     ]
    }
   ],
   "source": [
    "from sklearn.metrics import r2_score\n",
    "\n",
    "Accuracy=r2_score(y_test,y_pred)* 74748.0\n",
    "print(\" Accuracy of the model is %.2f\" %Accuracy)"
   ]
  },
  {
   "cell_type": "code",
   "execution_count": 134,
   "id": "71daa464",
   "metadata": {},
   "outputs": [
    {
     "data": {
      "image/png": "[encoded data removed]",
      "text/plain": [
       "<Figure size 432x288 with 1 Axes>"
      ]
     },
     "metadata": {
      "needs_background": "light"
     },
     "output_type": "display_data"
    }
   ],
   "source": [
    "plt.scatter(y_test,y_pred);\n",
    "plt.xlabel('Actual');\n",
    "plt.ylabel('Predicted');"
   ]
  },
  {
   "cell_type": "markdown",
   "id": "ae84274c",
   "metadata": {},
   "source": [
    "# Random Forest"
   ]
  },
  {
   "cell_type": "code",
   "execution_count": 145,
   "id": "8b4547fd",
   "metadata": {},
   "outputs": [
    {
     "name": "stderr",
     "output_type": "stream",
     "text": [
      "C:\\Users\\Windows 10 Pro\\AppData\\Local\\Temp\\ipykernel_1772\\644966471.py:9: DataConversionWarning: A column-vector y was passed when a 1d array was expected. Please change the shape of y to (n_samples,), for example using ravel().\n",
      "  regressor.fit(X, Y)\n"
     ]
    },
    {
     "data": {
      "text/html": [
       "<style>#sk-container-id-5 {color: black;background-color: white;}#sk-container-id-5 pre{padding: 0;}#sk-container-id-5 div.sk-toggleable {background-color: white;}#sk-container-id-5 label.sk-toggleable__label {cursor: pointer;display: block;width: 100%;margin-bottom: 0;padding: 0.3em;box-sizing: border-box;text-align: center;}#sk-container-id-5 label.sk-toggleable__label-arrow:before {content: \"▸\";float: left;margin-right: 0.25em;color: #696969;}#sk-container-id-5 label.sk-toggleable__label-arrow:hover:before {color: black;}#sk-container-id-5 div.sk-estimator:hover label.sk-toggleable__label-arrow:before {color: black;}#sk-container-id-5 div.sk-toggleable__content {max-height: 0;max-width: 0;overflow: hidden;text-align: left;background-color: #f0f8ff;}#sk-container-id-5 div.sk-toggleable__content pre {margin: 0.2em;color: black;border-radius: 0.25em;background-color: #f0f8ff;}#sk-container-id-5 input.sk-toggleable__control:checked~div.sk-toggleable__content {max-height: 200px;max-width: 100%;overflow: auto;}#sk-container-id-5 input.sk-toggleable__control:checked~label.sk-toggleable__label-arrow:before {content: \"▾\";}#sk-container-id-5 div.sk-estimator input.sk-toggleable__control:checked~label.sk-toggleable__label {background-color: #d4ebff;}#sk-container-id-5 div.sk-label input.sk-toggleable__control:checked~label.sk-toggleable__label {background-color: #d4ebff;}#sk-container-id-5 input.sk-hidden--visually {border: 0;clip: rect(1px 1px 1px 1px);clip: rect(1px, 1px, 1px, 1px);height: 1px;margin: -1px;overflow: hidden;padding: 0;position: absolute;width: 1px;}#sk-container-id-5 div.sk-estimator {font-family: monospace;background-color: #f0f8ff;border: 1px dotted black;border-radius: 0.25em;box-sizing: border-box;margin-bottom: 0.5em;}#sk-container-id-5 div.sk-estimator:hover {background-color: #d4ebff;}#sk-container-id-5 div.sk-parallel-item::after {content: \"\";width: 100%;border-bottom: 1px solid gray;flex-grow: 1;}#sk-container-id-5 div.sk-label:hover label.sk-toggleable__label {background-color: #d4ebff;}#sk-container-id-5 div.sk-serial::before {content: \"\";position: absolute;border-left: 1px solid gray;box-sizing: border-box;top: 0;bottom: 0;left: 50%;z-index: 0;}#sk-container-id-5 div.sk-serial {display: flex;flex-direction: column;align-items: center;background-color: white;padding-right: 0.2em;padding-left: 0.2em;position: relative;}#sk-container-id-5 div.sk-item {position: relative;z-index: 1;}#sk-container-id-5 div.sk-parallel {display: flex;align-items: stretch;justify-content: center;background-color: white;position: relative;}#sk-container-id-5 div.sk-item::before, #sk-container-id-5 div.sk-parallel-item::before {content: \"\";position: absolute;border-left: 1px solid gray;box-sizing: border-box;top: 0;bottom: 0;left: 50%;z-index: -1;}#sk-container-id-5 div.sk-parallel-item {display: flex;flex-direction: column;z-index: 1;position: relative;background-color: white;}#sk-container-id-5 div.sk-parallel-item:first-child::after {align-self: flex-end;width: 50%;}#sk-container-id-5 div.sk-parallel-item:last-child::after {align-self: flex-start;width: 50%;}#sk-container-id-5 div.sk-parallel-item:only-child::after {width: 0;}#sk-container-id-5 div.sk-dashed-wrapped {border: 1px dashed gray;margin: 0 0.4em 0.5em 0.4em;box-sizing: border-box;padding-bottom: 0.4em;background-color: white;}#sk-container-id-5 div.sk-label label {font-family: monospace;font-weight: bold;display: inline-block;line-height: 1.2em;}#sk-container-id-5 div.sk-label-container {text-align: center;}#sk-container-id-5 div.sk-container {/* jupyter's `normalize.less` sets `[hidden] { display: none; }` but bootstrap.min.css set `[hidden] { display: none !important; }` so we also need the `!important` here to be able to override the default hidden behavior on the sphinx rendered scikit-learn.org. See: https://github.com/scikit-learn/scikit-learn/issues/21755 */display: inline-block !important;position: relative;}#sk-container-id-5 div.sk-text-repr-fallback {display: none;}</style><div id=\"sk-container-id-5\" class=\"sk-top-container\"><div class=\"sk-text-repr-fallback\"><pre>RandomForestRegressor(random_state=0)</pre><b>In a Jupyter environment, please rerun this cell to show the HTML representation or trust the notebook. <br />On GitHub, the HTML representation is unable to render, please try loading this page with nbviewer.org.</b></div><div class=\"sk-container\" hidden><div class=\"sk-item\"><div class=\"sk-estimator sk-toggleable\"><input class=\"sk-toggleable__control sk-hidden--visually\" id=\"sk-estimator-id-5\" type=\"checkbox\" checked><label for=\"sk-estimator-id-5\" class=\"sk-toggleable__label sk-toggleable__label-arrow\">RandomForestRegressor</label><div class=\"sk-toggleable__content\"><pre>RandomForestRegressor(random_state=0)</pre></div></div></div></div></div>"
      ],
      "text/plain": [
       "RandomForestRegressor(random_state=0)"
      ]
     },
     "execution_count": 145,
     "metadata": {},
     "output_type": "execute_result"
    }
   ],
   "source": [
    " # Fitting Random Forest Regression to the dataset\n",
    "# import the regressor\n",
    "from sklearn.ensemble import RandomForestRegressor\n",
    " \n",
    " # create regressor object\n",
    "regressor = RandomForestRegressor(n_estimators = 100, random_state = 0)\n",
    " \n",
    "# fit the regressor with x and y data\n",
    "regressor.fit(X, Y) "
   ]
  },
  {
   "cell_type": "code",
   "execution_count": 146,
   "id": "8382fcbf",
   "metadata": {},
   "outputs": [
    {
     "name": "stdout",
     "output_type": "stream",
     "text": [
      "Predicted price:  73783\n",
      "\n"
     ]
    }
   ],
   "source": [
    "Y_pred = regressor.predict(np.array([74748.0]).reshape(1, 1))  # test the output by changing values\n",
    "\n",
    "# print the predicted price\n",
    "print(\"Predicted price: % d\\n\"% Y_pred) "
   ]
  },
  {
   "cell_type": "code",
   "execution_count": 147,
   "id": "a5a65a20",
   "metadata": {},
   "outputs": [
    {
     "data": {
      "image/png": "[encoded data removed]",
      "text/plain": [
       "<Figure size 432x288 with 1 Axes>"
      ]
     },
     "metadata": {
      "needs_background": "light"
     },
     "output_type": "display_data"
    }
   ],
   "source": [
    "# arange for creating a range of values \n",
    "# from min value of X to max value of X \n",
    "# with a difference of 0.01 between two\n",
    "# consecutive values\n",
    "X_grid = np.arange(min(X), max(X), 0.01)\n",
    "  \n",
    "# reshape for reshaping the data into \n",
    "# a len(X_grid)*1 array, i.e. to make\n",
    "# a column out of the X_grid values\n",
    "X_grid = X_grid.reshape((len(X_grid), 1)) \n",
    "  \n",
    "# scatter plot for original data\n",
    "plt.scatter(X, Y, color = 'red')\n",
    "  \n",
    "\n",
    "# plot predicted data\n",
    "plt.plot(X_grid, regressor.predict(X_grid), color = 'green')\n",
    "plt.title('Random Forest Regression')\n",
    "plt.xlabel('Interchnage rates')\n",
    "plt.ylabel('Salary')\n",
    "plt.show()"
   ]
  },
  {
   "cell_type": "code",
   "execution_count": 138,
   "id": "ff3e7927",
   "metadata": {},
   "outputs": [
    {
     "name": "stdout",
     "output_type": "stream",
     "text": [
      "              precision    recall  f1-score   support\n",
      "\n",
      "         0.0       1.00      1.00      1.00         7\n",
      "     60160.0       0.00      0.00      0.00         1\n",
      "     60927.0       0.00      0.00      0.00         0\n",
      "     61611.0       0.00      0.00      0.00         1\n",
      "     63068.0       0.00      0.00      0.00         0\n",
      "     63431.0       0.00      0.00      0.00         0\n",
      "     64913.0       0.00      0.00      0.00         1\n",
      "     65011.0       0.00      0.00      0.00         1\n",
      "     66416.0       0.00      0.00      0.00         0\n",
      "     66974.0       0.00      0.00      0.00         1\n",
      "     67190.0       0.00      0.00      0.00         0\n",
      "     67273.0       0.00      0.00      0.00         1\n",
      "     67329.0       0.00      0.00      0.00         0\n",
      "     67579.0       0.00      0.00      0.00         1\n",
      "     67744.0       0.00      0.00      0.00         1\n",
      "     68065.0       0.00      0.00      0.00         1\n",
      "     69204.0       0.00      0.00      0.00         0\n",
      "     69357.0       0.00      0.00      0.00         0\n",
      "     69448.0       0.00      0.00      0.00         0\n",
      "     70504.0       0.00      0.00      0.00         1\n",
      "     70671.0       0.00      0.00      0.00         1\n",
      "     70809.0       0.00      0.00      0.00         1\n",
      "     71032.0       0.00      0.00      0.00         1\n",
      "     72399.0       0.00      0.00      0.00         0\n",
      "     73300.0       0.00      0.00      0.00         1\n",
      "     74748.0       0.00      0.00      0.00         0\n",
      "     75929.0       0.00      0.00      0.00         0\n",
      "    100158.0       0.00      0.00      0.00         1\n",
      "    102325.0       0.00      0.00      0.00         1\n",
      "    106146.0       0.00      0.00      0.00         0\n",
      "    106823.0       0.00      0.00      0.00         1\n",
      "    107870.0       0.00      0.00      0.00         1\n",
      "    114613.0       0.00      0.00      0.00         0\n",
      "    114666.0       0.00      0.00      0.00         0\n",
      "    119515.0       0.00      0.00      0.00         1\n",
      "    124219.0       0.00      0.00      0.00         1\n",
      "    133093.0       0.00      0.00      0.00         0\n",
      "    135507.0       0.00      0.00      0.00         0\n",
      "    137750.0       0.00      0.00      0.00         0\n",
      "    138877.0       0.00      0.00      0.00         1\n",
      "    143871.0       0.00      0.00      0.00         1\n",
      "    146310.0       0.00      0.00      0.00         1\n",
      "    150690.0       0.00      0.00      0.00         1\n",
      "    153528.0       0.00      0.00      0.00         0\n",
      "    166001.0       0.00      0.00      0.00         0\n",
      "    168883.0       0.00      0.00      0.00         1\n",
      "    169298.0       0.00      0.00      0.00         1\n",
      "    170058.0       0.00      0.00      0.00         1\n",
      "    176931.0       0.00      0.00      0.00         0\n",
      "\n",
      "    accuracy                           0.21        34\n",
      "   macro avg       0.02      0.02      0.02        34\n",
      "weighted avg       0.21      0.21      0.21        34\n",
      "\n"
     ]
    },
    {
     "name": "stderr",
     "output_type": "stream",
     "text": [
      "C:\\Users\\Windows 10 Pro\\AppData\\Local\\Programs\\Python\\Python310\\lib\\site-packages\\sklearn\\metrics\\_classification.py:1327: UndefinedMetricWarning: Precision and F-score are ill-defined and being set to 0.0 in labels with no predicted samples. Use `zero_division` parameter to control this behavior.\n",
      "  _warn_prf(average, modifier, msg_start, len(result))\n",
      "C:\\Users\\Windows 10 Pro\\AppData\\Local\\Programs\\Python\\Python310\\lib\\site-packages\\sklearn\\metrics\\_classification.py:1327: UndefinedMetricWarning: Recall and F-score are ill-defined and being set to 0.0 in labels with no true samples. Use `zero_division` parameter to control this behavior.\n",
      "  _warn_prf(average, modifier, msg_start, len(result))\n",
      "C:\\Users\\Windows 10 Pro\\AppData\\Local\\Programs\\Python\\Python310\\lib\\site-packages\\sklearn\\metrics\\_classification.py:1327: UndefinedMetricWarning: Precision and F-score are ill-defined and being set to 0.0 in labels with no predicted samples. Use `zero_division` parameter to control this behavior.\n",
      "  _warn_prf(average, modifier, msg_start, len(result))\n",
      "C:\\Users\\Windows 10 Pro\\AppData\\Local\\Programs\\Python\\Python310\\lib\\site-packages\\sklearn\\metrics\\_classification.py:1327: UndefinedMetricWarning: Recall and F-score are ill-defined and being set to 0.0 in labels with no true samples. Use `zero_division` parameter to control this behavior.\n",
      "  _warn_prf(average, modifier, msg_start, len(result))\n",
      "C:\\Users\\Windows 10 Pro\\AppData\\Local\\Programs\\Python\\Python310\\lib\\site-packages\\sklearn\\metrics\\_classification.py:1327: UndefinedMetricWarning: Precision and F-score are ill-defined and being set to 0.0 in labels with no predicted samples. Use `zero_division` parameter to control this behavior.\n",
      "  _warn_prf(average, modifier, msg_start, len(result))\n",
      "C:\\Users\\Windows 10 Pro\\AppData\\Local\\Programs\\Python\\Python310\\lib\\site-packages\\sklearn\\metrics\\_classification.py:1327: UndefinedMetricWarning: Recall and F-score are ill-defined and being set to 0.0 in labels with no true samples. Use `zero_division` parameter to control this behavior.\n",
      "  _warn_prf(average, modifier, msg_start, len(result))\n"
     ]
    }
   ],
   "source": [
    "\n",
    "# Classification Report of RF classifier\n",
    "report_RF = classification_report(y_test , prediction_RF)\n",
    "print(report_RF)\n",
    "\n",
    "\n"
   ]
  },
  {
   "cell_type": "markdown",
   "id": "eee1e891",
   "metadata": {},
   "source": [
    "# SVC MODEL"
   ]
  },
  {
   "cell_type": "code",
   "execution_count": 139,
   "id": "4a4b5af0",
   "metadata": {},
   "outputs": [],
   "source": [
    "from sklearn.svm import SVC\n",
    "\n",
    "svc = SVC(kernel = 'rbf')\n",
    "\n",
    "# Fit the model \n",
    "svc.fit(X_train , y_train)\n",
    "\n",
    "# Predict the Result \n",
    "prediction_svc = svc.predict(X_test)"
   ]
  },
  {
   "cell_type": "code",
   "execution_count": 140,
   "id": "5eb64442",
   "metadata": {},
   "outputs": [],
   "source": [
    "# Accuracy of the SVC classifier\n",
    "accuracy_score_svc = accuracy_score(prediction_svc , y_test)"
   ]
  },
  {
   "cell_type": "code",
   "execution_count": 141,
   "id": "c20d3a07",
   "metadata": {},
   "outputs": [
    {
     "name": "stderr",
     "output_type": "stream",
     "text": [
      "C:\\Users\\Windows 10 Pro\\AppData\\Local\\Programs\\Python\\Python310\\lib\\site-packages\\mlxtend\\plotting\\plot_confusion_matrix.py:102: RuntimeWarning: invalid value encountered in true_divide\n",
      "  normed_conf_mat = conf_mat.astype(\"float\") / total_samples\n"
     ]
    },
    {
     "data": {
      "text/plain": [
       "(<Figure size 360x360 with 1 Axes>,\n",
       " <AxesSubplot:xlabel='predicted label', ylabel='true label'>)"
      ]
     },
     "execution_count": 141,
     "metadata": {},
     "output_type": "execute_result"
    },
    {
     "data": {
      "image/png": "[encoded data removed]",
      "text/plain": [
       "<Figure size 360x360 with 1 Axes>"
      ]
     },
     "metadata": {
      "needs_background": "light"
     },
     "output_type": "display_data"
    }
   ],
   "source": [
    "from sklearn.metrics import confusion_matrix\n",
    "from mlxtend.plotting import plot_confusion_matrix\n",
    "y_test\n",
    "mat = confusion_matrix(y_test, prediction_svc)\n",
    "plot_confusion_matrix(conf_mat=mat, figsize=(5, 5))"
   ]
  },
  {
   "cell_type": "code",
   "execution_count": 142,
   "id": "f7eac293",
   "metadata": {},
   "outputs": [
    {
     "name": "stdout",
     "output_type": "stream",
     "text": [
      "              precision    recall  f1-score   support\n",
      "\n",
      "         0.0       0.78      1.00      0.88         7\n",
      "     60160.0       0.00      0.00      0.00         1\n",
      "     61611.0       0.00      0.00      0.00         1\n",
      "     62212.0       0.00      0.00      0.00         0\n",
      "     64913.0       0.00      0.00      0.00         1\n",
      "     65011.0       0.00      0.00      0.00         1\n",
      "     65877.0       0.00      0.00      0.00         0\n",
      "     66565.0       0.00      0.00      0.00         0\n",
      "     66974.0       0.00      0.00      0.00         1\n",
      "     67190.0       0.00      0.00      0.00         0\n",
      "     67273.0       0.00      0.00      0.00         1\n",
      "     67579.0       0.00      0.00      0.00         1\n",
      "     67744.0       0.00      0.00      0.00         1\n",
      "     68065.0       0.00      0.00      0.00         1\n",
      "     69204.0       0.00      0.00      0.00         0\n",
      "     69304.0       0.00      0.00      0.00         0\n",
      "     69357.0       0.00      0.00      0.00         0\n",
      "     70504.0       0.00      0.00      0.00         1\n",
      "     70671.0       0.00      0.00      0.00         1\n",
      "     70809.0       0.00      0.00      0.00         1\n",
      "     71032.0       0.00      0.00      0.00         1\n",
      "     71681.0       0.00      0.00      0.00         0\n",
      "     72399.0       0.00      0.00      0.00         0\n",
      "     73300.0       0.00      0.00      0.00         1\n",
      "     75929.0       0.00      0.00      0.00         0\n",
      "    100158.0       0.00      0.00      0.00         1\n",
      "    102325.0       0.00      0.00      0.00         1\n",
      "    106146.0       0.00      0.00      0.00         0\n",
      "    106823.0       0.00      0.00      0.00         1\n",
      "    107870.0       0.00      0.00      0.00         1\n",
      "    115085.0       0.00      0.00      0.00         0\n",
      "    119515.0       0.00      0.00      0.00         1\n",
      "    124219.0       0.00      0.00      0.00         1\n",
      "    124236.0       0.00      0.00      0.00         0\n",
      "    137750.0       0.00      0.00      0.00         0\n",
      "    138877.0       0.00      0.00      0.00         1\n",
      "    143871.0       0.00      0.00      0.00         1\n",
      "    146018.0       0.00      0.00      0.00         0\n",
      "    146310.0       0.00      0.00      0.00         1\n",
      "    150690.0       0.00      0.00      0.00         1\n",
      "    153528.0       0.00      0.00      0.00         0\n",
      "    168883.0       0.00      0.00      0.00         1\n",
      "    169298.0       0.00      0.00      0.00         1\n",
      "    170058.0       0.00      0.00      0.00         1\n",
      "    170456.0       0.00      0.00      0.00         0\n",
      "\n",
      "    accuracy                           0.21        34\n",
      "   macro avg       0.02      0.02      0.02        34\n",
      "weighted avg       0.16      0.21      0.18        34\n",
      "\n"
     ]
    },
    {
     "name": "stderr",
     "output_type": "stream",
     "text": [
      "C:\\Users\\Windows 10 Pro\\AppData\\Local\\Programs\\Python\\Python310\\lib\\site-packages\\sklearn\\metrics\\_classification.py:1327: UndefinedMetricWarning: Precision and F-score are ill-defined and being set to 0.0 in labels with no predicted samples. Use `zero_division` parameter to control this behavior.\n",
      "  _warn_prf(average, modifier, msg_start, len(result))\n",
      "C:\\Users\\Windows 10 Pro\\AppData\\Local\\Programs\\Python\\Python310\\lib\\site-packages\\sklearn\\metrics\\_classification.py:1327: UndefinedMetricWarning: Recall and F-score are ill-defined and being set to 0.0 in labels with no true samples. Use `zero_division` parameter to control this behavior.\n",
      "  _warn_prf(average, modifier, msg_start, len(result))\n",
      "C:\\Users\\Windows 10 Pro\\AppData\\Local\\Programs\\Python\\Python310\\lib\\site-packages\\sklearn\\metrics\\_classification.py:1327: UndefinedMetricWarning: Precision and F-score are ill-defined and being set to 0.0 in labels with no predicted samples. Use `zero_division` parameter to control this behavior.\n",
      "  _warn_prf(average, modifier, msg_start, len(result))\n",
      "C:\\Users\\Windows 10 Pro\\AppData\\Local\\Programs\\Python\\Python310\\lib\\site-packages\\sklearn\\metrics\\_classification.py:1327: UndefinedMetricWarning: Recall and F-score are ill-defined and being set to 0.0 in labels with no true samples. Use `zero_division` parameter to control this behavior.\n",
      "  _warn_prf(average, modifier, msg_start, len(result))\n",
      "C:\\Users\\Windows 10 Pro\\AppData\\Local\\Programs\\Python\\Python310\\lib\\site-packages\\sklearn\\metrics\\_classification.py:1327: UndefinedMetricWarning: Precision and F-score are ill-defined and being set to 0.0 in labels with no predicted samples. Use `zero_division` parameter to control this behavior.\n",
      "  _warn_prf(average, modifier, msg_start, len(result))\n",
      "C:\\Users\\Windows 10 Pro\\AppData\\Local\\Programs\\Python\\Python310\\lib\\site-packages\\sklearn\\metrics\\_classification.py:1327: UndefinedMetricWarning: Recall and F-score are ill-defined and being set to 0.0 in labels with no true samples. Use `zero_division` parameter to control this behavior.\n",
      "  _warn_prf(average, modifier, msg_start, len(result))\n"
     ]
    }
   ],
   "source": [
    "# Classification Report of SVC classifier\n",
    "report_svc = classification_report(y_test , prediction_svc)\n",
    "print(report_svc)"
   ]
  }
 ],
 "metadata": {
  "kernelspec": {
   "display_name": "Python 3 (ipykernel)",
   "language": "python",
   "name": "python3"
  },
  "language_info": {
   "codemirror_mode": {
    "name": "ipython",
    "version": 3
   },
   "file_extension": ".py",
   "mimetype": "text/x-python",
   "name": "python",
   "nbconvert_exporter": "python",
   "pygments_lexer": "ipython3",
   "version": "3.10.5"
  }
 },
 "nbformat": 4,
 "nbformat_minor": 5
}
